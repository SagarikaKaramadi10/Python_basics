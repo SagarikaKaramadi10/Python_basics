{
 "cells": [
  {
   "cell_type": "markdown",
   "id": "2e5f2c9a-6967-461a-b52c-189db98fa0b7",
   "metadata": {},
   "source": [
    "*Python Lists: Basics and Operations*"
   ]
  },
  {
   "cell_type": "code",
   "execution_count": 13,
   "id": "24fb49c2-f4c7-4820-b07b-4adb11b0d2d5",
   "metadata": {},
   "outputs": [
    {
     "name": "stdout",
     "output_type": "stream",
     "text": [
      "Initial list of items: ['bread', 'Pasta', 'Coffee', 'Veggies']\n"
     ]
    }
   ],
   "source": [
    "# Define a list of items\n",
    "items = [\"bread\", \"Pasta\", \"Coffee\", \"Veggies\"]\n",
    "print(\"Initial list of items:\", items)\n"
   ]
  },
  {
   "cell_type": "code",
   "execution_count": 14,
   "id": "9c95459b-25a1-4d51-9f1b-b8043a2ebc12",
   "metadata": {},
   "outputs": [
    {
     "name": "stdout",
     "output_type": "stream",
     "text": [
      "Last item in the list: Veggies\n"
     ]
    }
   ],
   "source": [
    "# Access the last item using negative indexing\n",
    "print(\"Last item in the list:\", items[-1])"
   ]
  },
  {
   "cell_type": "code",
   "execution_count": 15,
   "id": "6784e883-9149-4f2e-aaaa-215a4c08882f",
   "metadata": {},
   "outputs": [
    {
     "name": "stdout",
     "output_type": "stream",
     "text": [
      "First two items: ['bread', 'Pasta']\n"
     ]
    }
   ],
   "source": [
    "# Access the first two items using slicing\n",
    "print(\"First two items:\", items[0:2])"
   ]
  },
  {
   "cell_type": "code",
   "execution_count": 16,
   "id": "c13e3edc-9c2f-435e-b745-66b7a6427065",
   "metadata": {},
   "outputs": [
    {
     "name": "stdout",
     "output_type": "stream",
     "text": [
      "List after appending 'butter': ['bread', 'Pasta', 'Coffee', 'Veggies', 'butter']\n"
     ]
    }
   ],
   "source": [
    "# Add a new item to the end of the list\n",
    "items.append(\"butter\")\n",
    "print(\"List after appending 'butter':\", items)"
   ]
  },
  {
   "cell_type": "code",
   "execution_count": 17,
   "id": "d8446738-3a7f-4a85-a9f8-ff8cc0442c85",
   "metadata": {},
   "outputs": [
    {
     "name": "stdout",
     "output_type": "stream",
     "text": [
      "List after removing 'butter': ['bread', 'Pasta', 'Coffee', 'Veggies']\n"
     ]
    }
   ],
   "source": [
    "# Remove an item from the list\n",
    "items.remove(\"butter\")\n",
    "print(\"List after removing 'butter':\", items)"
   ]
  },
  {
   "cell_type": "code",
   "execution_count": 18,
   "id": "98bbf59c-3a04-4836-9820-f8f88a5aa6c2",
   "metadata": {},
   "outputs": [
    {
     "name": "stdout",
     "output_type": "stream",
     "text": [
      "List after inserting 'butter' at index 1: ['bread', 'butter', 'Pasta', 'Coffee', 'Veggies']\n"
     ]
    }
   ],
   "source": [
    "# Insert an item at a specific position\n",
    "items.insert(1, \"butter\")\n",
    "print(\"List after inserting 'butter' at index 1:\", items)"
   ]
  },
  {
   "cell_type": "code",
   "execution_count": 19,
   "id": "cec05c60-7cc5-4a77-a611-d96156671609",
   "metadata": {},
   "outputs": [
    {
     "name": "stdout",
     "output_type": "stream",
     "text": [
      "List after replacing item at index 1 with 'cola': ['bread', 'cola', 'Pasta', 'Coffee', 'Veggies']\n"
     ]
    }
   ],
   "source": [
    "# Replace an item at a specific index\n",
    "items[1] = \"cola\"\n",
    "print(\"List after replacing item at index 1 with 'cola':\", items)"
   ]
  },
  {
   "cell_type": "code",
   "execution_count": 20,
   "id": "a2439002-a9bb-4223-8131-b2e6ac6c479b",
   "metadata": {},
   "outputs": [
    {
     "name": "stdout",
     "output_type": "stream",
     "text": [
      "Is 'rice' in the list? False\n"
     ]
    }
   ],
   "source": [
    "# Check if an item exists in the list\n",
    "print(\"Is 'rice' in the list?\", 'rice' in items)"
   ]
  },
  {
   "cell_type": "code",
   "execution_count": 21,
   "id": "d398ed9c-7569-4847-914d-0a8843b3e983",
   "metadata": {},
   "outputs": [
    {
     "name": "stdout",
     "output_type": "stream",
     "text": [
      "List after replacing items from index 3: ['bread', 'cola', 'Pasta', 'almonds']\n"
     ]
    }
   ],
   "source": [
    "# Replace multiple items starting from a specific index\n",
    "items[3:] = ['almonds']\n",
    "print(\"List after replacing items from index 3:\", items)"
   ]
  },
  {
   "cell_type": "code",
   "execution_count": 22,
   "id": "35bbc9f7-d700-4dc3-9e7b-77d26d391cbc",
   "metadata": {},
   "outputs": [
    {
     "name": "stdout",
     "output_type": "stream",
     "text": [
      "Initial expenses: [30, 1500, 50, 600]\n"
     ]
    }
   ],
   "source": [
    "# Another example: Working with a list of expenses\n",
    "expenses = [30, 1500, 50, 600]\n",
    "print(\"Initial expenses:\", expenses)"
   ]
  },
  {
   "cell_type": "code",
   "execution_count": 23,
   "id": "376fe30f-7a58-48c1-a5f5-b19d0f666a16",
   "metadata": {},
   "outputs": [
    {
     "name": "stdout",
     "output_type": "stream",
     "text": [
      "Expenses sorted in ascending order: [30, 50, 600, 1500]\n"
     ]
    }
   ],
   "source": [
    "# Sort the expenses in ascending order\n",
    "expenses.sort()\n",
    "print(\"Expenses sorted in ascending order:\", expenses)"
   ]
  },
  {
   "cell_type": "code",
   "execution_count": 24,
   "id": "5e2d11c4-84e9-449f-851f-e8dc0a6babc1",
   "metadata": {},
   "outputs": [
    {
     "name": "stdout",
     "output_type": "stream",
     "text": [
      "Expenses sorted in descending order: [1500, 600, 50, 30]\n"
     ]
    }
   ],
   "source": [
    "# Sort the expenses in descending order\n",
    "expenses.sort(reverse=True)\n",
    "print(\"Expenses sorted in descending order:\", expenses)"
   ]
  },
  {
   "cell_type": "code",
   "execution_count": 25,
   "id": "3dc2ba15-4e34-4e40-83c8-f6d303101363",
   "metadata": {},
   "outputs": [
    {
     "name": "stdout",
     "output_type": "stream",
     "text": [
      "Combined list (home): ['bread', 'butter', 'pasta', 'fruits', 'shampoo', 'conditioner']\n"
     ]
    }
   ],
   "source": [
    "# Combining two lists\n",
    "food_items = [\"bread\", \"butter\", \"pasta\", \"fruits\"]\n",
    "itemas = [\"shampoo\", \"conditioner\"]\n",
    "home = food_items + itemas\n",
    "print(\"Combined list (home):\", home)"
   ]
  },
  {
   "cell_type": "code",
   "execution_count": 26,
   "id": "c71a56de-6996-468a-ae4f-d4e53d4ff8cb",
   "metadata": {},
   "outputs": [
    {
     "name": "stdout",
     "output_type": "stream",
     "text": [
      "Number of items in the 'home' list: 6\n"
     ]
    }
   ],
   "source": [
    "# Get the number of items in the combined list\n",
    "print(\"Number of items in the 'home' list:\", len(home))"
   ]
  },
  {
   "cell_type": "code",
   "execution_count": 27,
   "id": "33e3b0cb-8d10-4b65-a10b-b96a1c55b492",
   "metadata": {},
   "outputs": [
    {
     "name": "stdout",
     "output_type": "stream",
     "text": [
      "Available methods for 'home': ['__add__', '__class__', '__class_getitem__', '__contains__', '__delattr__', '__delitem__', '__dir__', '__doc__', '__eq__', '__format__', '__ge__', '__getattribute__', '__getitem__', '__getstate__', '__gt__', '__hash__', '__iadd__', '__imul__', '__init__', '__init_subclass__', '__iter__', '__le__', '__len__', '__lt__', '__mul__', '__ne__', '__new__', '__reduce__', '__reduce_ex__', '__repr__', '__reversed__', '__rmul__', '__setattr__', '__setitem__', '__sizeof__', '__str__', '__subclasshook__', 'append', 'clear', 'copy', 'count', 'extend', 'index', 'insert', 'pop', 'remove', 'reverse', 'sort']\n"
     ]
    }
   ],
   "source": [
    "# Explore available methods for the list\n",
    "print(\"Available methods for 'home':\", dir(home))"
   ]
  },
  {
   "cell_type": "code",
   "execution_count": 28,
   "id": "cc0e6f38-7037-4619-a8af-47f0b3bd5497",
   "metadata": {},
   "outputs": [
    {
     "name": "stdout",
     "output_type": "stream",
     "text": [
      "List after popping the last item: ['bread', 'butter', 'pasta', 'fruits', 'shampoo']\n"
     ]
    }
   ],
   "source": [
    "# Remove and return the last item from the list\n",
    "home.pop()\n",
    "print(\"List after popping the last item:\", home)"
   ]
  },
  {
   "cell_type": "code",
   "execution_count": 29,
   "id": "bbc054b1-8f78-4e7c-8e67-cdda53d8c192",
   "metadata": {},
   "outputs": [
    {
     "name": "stdout",
     "output_type": "stream",
     "text": [
      "List after appending 5: ['bread', 'butter', 'pasta', 'fruits', 'shampoo', 5]\n"
     ]
    }
   ],
   "source": [
    "# Add a new item to the end of the list\n",
    "home.append(5)\n",
    "print(\"List after appending 5:\", home)"
   ]
  }
 ],
 "metadata": {
  "kernelspec": {
   "display_name": "Python 3 (ipykernel)",
   "language": "python",
   "name": "python3"
  },
  "language_info": {
   "codemirror_mode": {
    "name": "ipython",
    "version": 3
   },
   "file_extension": ".py",
   "mimetype": "text/x-python",
   "name": "python",
   "nbconvert_exporter": "python",
   "pygments_lexer": "ipython3",
   "version": "3.11.4"
  }
 },
 "nbformat": 4,
 "nbformat_minor": 5
}
