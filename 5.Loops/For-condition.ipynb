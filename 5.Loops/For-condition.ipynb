{
 "cells": [
  {
   "cell_type": "code",
   "execution_count": 3,
   "id": "bf3ff011-6fa6-42cf-81c9-c16995ebb31e",
   "metadata": {},
   "outputs": [
    {
     "name": "stdout",
     "output_type": "stream",
     "text": [
      "Sales amount 42 is above the threshold\n",
      "Sales amount 38 is above the threshold\n",
      "Sales amount 33 is below the threshold\n"
     ]
    }
   ],
   "source": [
    "# Sales analysis using a threshold value\n",
    "monthly_sales = [42, 38, 33, 38, 40, 45]\n",
    "threshold = 35\n",
    "\n",
    "# Loop through monthly_sales and check each sales amount against the threshold\n",
    "for sales_amount in monthly_sales:\n",
    "    if sales_amount < threshold:\n",
    "        # Print and exit the loop if sales are below the threshold\n",
    "        print(f\"Sales amount {sales_amount} is below the threshold\")\n",
    "        break\n",
    "    else:\n",
    "        # Print if sales are above the threshold\n",
    "        print(f\"Sales amount {sales_amount} is above the threshold\")\n",
    "\n"
   ]
  },
  {
   "cell_type": "code",
   "execution_count": 4,
   "id": "fdc0d532-9dab-443e-b62e-be769db2e8dd",
   "metadata": {},
   "outputs": [
    {
     "name": "stdout",
     "output_type": "stream",
     "text": [
      "Sales amount 42 is greater than the threshold in Jan\n",
      "Sales amount 38 is greater than the threshold in Feb\n",
      "Sales amount 33 is less than the threshold in March\n"
     ]
    }
   ],
   "source": [
    "# Adding months to associate sales with specific months\n",
    "months = [\"Jan\", \"Feb\", \"March\", \"April\", \"May\", \"June\"]\n",
    "\n",
    "# Use zip to iterate over sales and months simultaneously\n",
    "for sales_amount, month in zip(monthly_sales, months):\n",
    "    if sales_amount < threshold:\n",
    "        # Print the month and sales amount when below threshold, then exit the loop\n",
    "        print(f\"Sales amount {sales_amount} is less than the threshold in {month}\")\n",
    "        break\n",
    "    else:\n",
    "        # Print the month and sales amount when above threshold\n",
    "        print(f\"Sales amount {sales_amount} is greater than the threshold in {month}\")"
   ]
  },
  {
   "cell_type": "code",
   "execution_count": 5,
   "id": "b33df0d4-3382-4264-a1f6-2acff4214d01",
   "metadata": {},
   "outputs": [
    {
     "name": "stdout",
     "output_type": "stream",
     "text": [
      "1\n",
      "3\n",
      "5\n",
      "7\n",
      "9\n"
     ]
    }
   ],
   "source": [
    "# Skipping even numbers with 'continue'\n",
    "for i in range(1, 11):\n",
    "    if i % 2 == 0:  # Skip even numbers\n",
    "        continue\n",
    "    print(i)  # Print only odd numbers"
   ]
  },
  {
   "cell_type": "code",
   "execution_count": 7,
   "id": "45234f3d-e37b-4ce9-bba9-9ea06cce722b",
   "metadata": {},
   "outputs": [
    {
     "name": "stdout",
     "output_type": "stream",
     "text": [
      "Total expense: 5700\n"
     ]
    }
   ],
   "source": [
    "# Calculating total expenses without a loop\n",
    "expenses = [1200, 1300, 1500, 1700]\n",
    "total_expense = expenses[0] + expenses[1] + expenses[2] + expenses[3]  # Manual addition\n",
    "print(\"Total expense:\", total_expense)"
   ]
  },
  {
   "cell_type": "code",
   "execution_count": 8,
   "id": "6197d984-496e-4714-906e-a0cd70c4455c",
   "metadata": {},
   "outputs": [
    {
     "name": "stdout",
     "output_type": "stream",
     "text": [
      "Total expense: 5700\n"
     ]
    }
   ],
   "source": [
    "# Calculating total expenses using a for loop\n",
    "total_expense = 0\n",
    "for expense in expenses:\n",
    "    total_expense += expense  # Add each expense to the total\n",
    "print(\"Total expense:\", total_expense)"
   ]
  },
  {
   "cell_type": "code",
   "execution_count": 9,
   "id": "45ccb5db-eb74-4a03-b227-b86cfc39b9a4",
   "metadata": {},
   "outputs": [
    {
     "name": "stdout",
     "output_type": "stream",
     "text": [
      "Month 1, Expense: 1200\n",
      "Month 2, Expense: 1300\n",
      "Month 3, Expense: 1500\n",
      "Month 4, Expense: 1700\n",
      "Total expense: 5700\n"
     ]
    }
   ],
   "source": [
    "# Using the range function for indexed iteration\n",
    "total_expense = 0\n",
    "for i in range(len(expenses)):\n",
    "    expense = expenses[i]\n",
    "    print(f'Month {i+1}, Expense: {expense}')  # Display each month's expense\n",
    "    total_expense += expense\n",
    "print(\"Total expense:\", total_expense)\n"
   ]
  },
  {
   "cell_type": "code",
   "execution_count": 10,
   "id": "c3d5a075-0960-437d-871b-9ebd05848195",
   "metadata": {},
   "outputs": [
    {
     "name": "stdout",
     "output_type": "stream",
     "text": [
      "Month 1, Expense: 1200\n",
      "Month 2, Expense: 1300\n",
      "Month 3, Expense: 1500\n",
      "Month 4, Expense: 1700\n",
      "Total expense: 5700\n"
     ]
    }
   ],
   "source": [
    "# Using enumerate for cleaner indexed iteration\n",
    "total_expense = 0\n",
    "for i, expense in enumerate(expenses):\n",
    "    print(f'Month {i+1}, Expense: {expense}')  # Display each month's expense with index\n",
    "    total_expense += expense\n",
    "print(\"Total expense:\", total_expense)"
   ]
  },
  {
   "cell_type": "markdown",
   "id": "25f4987f-0dc0-45f4-90bf-eed0aeb3b37c",
   "metadata": {},
   "source": [
    "### While loop"
   ]
  },
  {
   "cell_type": "code",
   "execution_count": 14,
   "id": "d40e244d-8881-4a04-943b-c4f9ec4e2e1e",
   "metadata": {},
   "outputs": [
    {
     "name": "stdout",
     "output_type": "stream",
     "text": [
      "0\n",
      "1\n",
      "2\n",
      "3\n",
      "4\n",
      "5\n",
      "6\n",
      "7\n",
      "8\n",
      "9\n",
      "10\n"
     ]
    }
   ],
   "source": [
    "# Basic while loop example\n",
    "n = 0\n",
    "while n <= 10:\n",
    "    print(n)  # Print current value of n\n",
    "    n += 1  # Increment n"
   ]
  },
  {
   "cell_type": "code",
   "execution_count": 15,
   "id": "8df6be7d-f78f-4187-92c8-457688ceb4a7",
   "metadata": {},
   "outputs": [
    {
     "name": "stdout",
     "output_type": "stream",
     "text": [
      "Factorial of 5 is 120\n"
     ]
    }
   ],
   "source": [
    "# Calculating factorial using a while loop\n",
    "number = 5  \n",
    "factorial = 1\n",
    "counter = number\n",
    "\n",
    "while counter > 0:\n",
    "    factorial *= counter  \n",
    "    counter -= 1  \n",
    "print(f\"Factorial of {number} is {factorial}\")"
   ]
  }
 ],
 "metadata": {
  "kernelspec": {
   "display_name": "Python 3 (ipykernel)",
   "language": "python",
   "name": "python3"
  },
  "language_info": {
   "codemirror_mode": {
    "name": "ipython",
    "version": 3
   },
   "file_extension": ".py",
   "mimetype": "text/x-python",
   "name": "python",
   "nbconvert_exporter": "python",
   "pygments_lexer": "ipython3",
   "version": "3.11.4"
  }
 },
 "nbformat": 4,
 "nbformat_minor": 5
}
