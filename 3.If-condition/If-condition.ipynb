{
 "cells": [
  {
   "cell_type": "markdown",
   "id": "03209c10-71a3-4347-a7e5-06dd475407ef",
   "metadata": {},
   "source": [
    "*If condition*\n"
   ]
  },
  {
   "cell_type": "code",
   "execution_count": 13,
   "id": "eac23c95-f556-4295-8226-ad34ea028f76",
   "metadata": {},
   "outputs": [
    {
     "name": "stdin",
     "output_type": "stream",
     "text": [
      "Enter a number:  8\n"
     ]
    },
    {
     "ename": "TypeError",
     "evalue": "not all arguments converted during string formatting",
     "output_type": "error",
     "traceback": [
      "\u001b[1;31m---------------------------------------------------------------------------\u001b[0m",
      "\u001b[1;31mTypeError\u001b[0m                                 Traceback (most recent call last)",
      "Cell \u001b[1;32mIn[13], line 6\u001b[0m\n\u001b[0;32m      1\u001b[0m \u001b[38;5;66;03m#checking if a number is even or not\u001b[39;00m\n\u001b[0;32m      2\u001b[0m \u001b[38;5;66;03m#if statement execute a block of code only if the condition is true\u001b[39;00m\n\u001b[0;32m      3\u001b[0m \u001b[38;5;66;03m#input statement \u001b[39;00m\n\u001b[0;32m      4\u001b[0m n \u001b[38;5;241m=\u001b[39m \u001b[38;5;28minput\u001b[39m(\u001b[38;5;124m\"\u001b[39m\u001b[38;5;124mEnter a number: \u001b[39m\u001b[38;5;124m\"\u001b[39m)\n\u001b[1;32m----> 6\u001b[0m \u001b[38;5;28;01mif\u001b[39;00m \u001b[43mn\u001b[49m\u001b[38;5;241;43m%\u001b[39;49m\u001b[38;5;241;43m2\u001b[39;49m \u001b[38;5;241m==\u001b[39m \u001b[38;5;241m0\u001b[39m:\n\u001b[0;32m      7\u001b[0m     \u001b[38;5;28mprint\u001b[39m(\u001b[38;5;124mf\u001b[39m\u001b[38;5;124m\"\u001b[39m\u001b[38;5;124mThe number \u001b[39m\u001b[38;5;132;01m{\u001b[39;00mn\u001b[38;5;132;01m}\u001b[39;00m\u001b[38;5;124m is even\u001b[39m\u001b[38;5;124m\"\u001b[39m)\n\u001b[0;32m      8\u001b[0m \u001b[38;5;28;01melse\u001b[39;00m:\n",
      "\u001b[1;31mTypeError\u001b[0m: not all arguments converted during string formatting"
     ]
    }
   ],
   "source": [
    "#checking if a number is even or not\n",
    "#if statement execute a block of code only if the condition is true\n",
    "#input statement \n",
    "n = input(\"Enter a number: \")\n",
    "\n",
    "if n%2 == 0:\n",
    "    print(f\"The number {n} is even\")\n",
    "else:\n",
    "    print(f\"The number {n} is odd\")"
   ]
  },
  {
   "cell_type": "code",
   "execution_count": 4,
   "id": "df42f7a4-134f-428d-879f-adce929d645b",
   "metadata": {},
   "outputs": [
    {
     "name": "stdin",
     "output_type": "stream",
     "text": [
      "Enter a number:  15\n"
     ]
    },
    {
     "name": "stdout",
     "output_type": "stream",
     "text": [
      "The number 15 is odd\n"
     ]
    }
   ],
   "source": [
    "#input is always taken as string so change the data type (type casting)\n",
    "n = int(input(\"Enter a number: \"))\n",
    "\n",
    "if n%2 == 0:\n",
    "    print(f\"The number {n} is even\")\n",
    "else:\n",
    "    print(f\"The number {n} is odd\")"
   ]
  },
  {
   "cell_type": "code",
   "execution_count": 6,
   "id": "6dfe3a8c-9a27-4cb9-8f84-9e793426d495",
   "metadata": {},
   "outputs": [
    {
     "name": "stdin",
     "output_type": "stream",
     "text": [
      "Enter a number:  89\n"
     ]
    },
    {
     "name": "stdout",
     "output_type": "stream",
     "text": [
      "number is odd\n"
     ]
    }
   ],
   "source": [
    "#if condition in a single line\n",
    "n = int(input(\"Enter a number: \"))\n",
    "message = \"number is even\" if n%2==0 else \"number is odd\"\n",
    "print(message)"
   ]
  },
  {
   "cell_type": "code",
   "execution_count": 7,
   "id": "3d0aa2be-65be-4da7-a880-2fd91202f535",
   "metadata": {},
   "outputs": [
    {
     "name": "stdin",
     "output_type": "stream",
     "text": [
      "Enter a number:  56\n"
     ]
    },
    {
     "name": "stdout",
     "output_type": "stream",
     "text": [
      "The number 56 is EVEN\n"
     ]
    }
   ],
   "source": [
    "#using NOT key word\n",
    "n = int(input(\"Enter a number: \"))\n",
    "\n",
    "if not n%2 == 0:\n",
    "    print(f\"The number {n} is ODD\")\n",
    "else:\n",
    "    print(f\"The number {n} is EVEN\")"
   ]
  },
  {
   "cell_type": "code",
   "execution_count": 11,
   "id": "f84b091f-d1a4-4c30-ae6b-21a6895a1133",
   "metadata": {},
   "outputs": [
    {
     "name": "stdin",
     "output_type": "stream",
     "text": [
      "Enter a number:  6\n"
     ]
    },
    {
     "name": "stdout",
     "output_type": "stream",
     "text": [
      "Single digit even number\n"
     ]
    }
   ],
   "source": [
    "#print \"Single digit even number\" if n is less than 10 and \n",
    "#also is a even number else print \"not a single digit even number\"\n",
    "\n",
    "n = int(input(\"Enter a number: \"))\n",
    "if n < 10 and n % 2 == 0 :\n",
    "    print(\"Single digit even number\")\n",
    "else:\n",
    "    print(\"Not a single digit even number\")"
   ]
  },
  {
   "cell_type": "code",
   "execution_count": 12,
   "id": "956a296f-4a6a-48fa-b8bf-61810a54a19b",
   "metadata": {},
   "outputs": [
    {
     "name": "stdout",
     "output_type": "stream",
     "text": [
      "['Karnataka', 'Maharashtra', 'UP', 'Gujarat']\n",
      "['Alabama', 'Alaska', 'Texas', 'Montana']\n",
      "['New South Wales', 'Victoria', 'Queensland', 'Tasmania']\n"
     ]
    },
    {
     "name": "stdin",
     "output_type": "stream",
     "text": [
      "Enter a state:  Gujarat\n"
     ]
    },
    {
     "name": "stdout",
     "output_type": "stream",
     "text": [
      "Gujarat in India\n"
     ]
    }
   ],
   "source": [
    "# else if statement\n",
    "India = [\"Karnataka\", \"Maharashtra\", \"UP\", \"Gujarat\"]\n",
    "print(India)\n",
    "US = [\"Alabama\", \"Alaska\" ,\"Texas\" ,\"Montana\"]\n",
    "print(US)\n",
    "Australia =[\"New South Wales\", \"Victoria\", \"Queensland\",\"Tasmania\"]\n",
    "print(Australia)\n",
    "\n",
    "state = input(\"Enter a state: \")\n",
    "\n",
    "if state in India:\n",
    "    print(f\"{state} in India\")\n",
    "elif state in US:\n",
    "    print(f\"{state} in US\")\n",
    "elif state in Australia:\n",
    "    print(f\"{state} in Australia\")\n",
    "else:\n",
    "    print(f\"{state} in None of the above\")"
   ]
  }
 ],
 "metadata": {
  "kernelspec": {
   "display_name": "Python 3 (ipykernel)",
   "language": "python",
   "name": "python3"
  },
  "language_info": {
   "codemirror_mode": {
    "name": "ipython",
    "version": 3
   },
   "file_extension": ".py",
   "mimetype": "text/x-python",
   "name": "python",
   "nbconvert_exporter": "python",
   "pygments_lexer": "ipython3",
   "version": "3.11.4"
  }
 },
 "nbformat": 4,
 "nbformat_minor": 5
}
