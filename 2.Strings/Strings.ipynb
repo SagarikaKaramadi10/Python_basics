{
 "cells": [
  {
   "cell_type": "markdown",
   "id": "277f0b03-99a7-43c5-95d7-93ec10f671a5",
   "metadata": {},
   "source": [
    "*Strings*"
   ]
  },
  {
   "cell_type": "code",
   "execution_count": 1,
   "id": "b0ba234d-0a08-4d0f-8387-efdbb9e4e9ad",
   "metadata": {},
   "outputs": [
    {
     "name": "stdout",
     "output_type": "stream",
     "text": [
      "<class 'str'>\n"
     ]
    }
   ],
   "source": [
    "# Assigning strings to variables\n",
    "first_name = 'Maze'\n",
    "last_name = 'Smith'\n",
    "\n",
    "# Checking the type of a string variable\n",
    "print(type(first_name))  # <class 'str'>"
   ]
  },
  {
   "cell_type": "code",
   "execution_count": 2,
   "id": "d74508f0-1ecf-4acb-923d-34bdcb3a56ee",
   "metadata": {},
   "outputs": [
    {
     "name": "stdout",
     "output_type": "stream",
     "text": [
      "Full name: Maze Smith\n"
     ]
    }
   ],
   "source": [
    "# Concatenating strings\n",
    "full_name = first_name + \" \" + last_name\n",
    "print(f\"Full name: {full_name}\")  # Using f-strings for formatted output\n"
   ]
  },
  {
   "cell_type": "code",
   "execution_count": 3,
   "id": "f238c17d-8112-4c9d-a4aa-521751f30406",
   "metadata": {},
   "outputs": [
    {
     "name": "stdout",
     "output_type": "stream",
     "text": [
      "Full name: Maze Smith\n"
     ]
    }
   ],
   "source": [
    "# Alternate way to format strings directly in the print statement\n",
    "print(f\"Full name: {first_name} {last_name}\")\n"
   ]
  },
  {
   "cell_type": "code",
   "execution_count": 4,
   "id": "2a9d473b-03bf-4f34-ab1c-632771f93c48",
   "metadata": {},
   "outputs": [
    {
     "name": "stdout",
     "output_type": "stream",
     "text": [
      "Maze Smith is 25 years old\n"
     ]
    }
   ],
   "source": [
    "# Using formatted strings with variables\n",
    "age = 25\n",
    "info = f\"{first_name} {last_name} is {age} years old\"\n",
    "print(info)"
   ]
  },
  {
   "cell_type": "code",
   "execution_count": 5,
   "id": "92efd85a-20fb-4a94-932d-dc85c295dd57",
   "metadata": {},
   "outputs": [
    {
     "name": "stdout",
     "output_type": "stream",
     "text": [
      "M\n",
      "a\n",
      "Maze\n",
      "Smith\n",
      "Smith\n",
      "h\n"
     ]
    }
   ],
   "source": [
    "# Indexing and slicing strings\n",
    "print(full_name[0])    # First character\n",
    "print(full_name[1])    # Second character\n",
    "print(full_name[0:4])  # Substring from index 0 to 3 (inclusive of 0, exclusive of 4)\n",
    "print(full_name[5:10]) # Substring from index 5 to 9\n",
    "print(full_name[5:])   # Substring from index 5 to the end\n",
    "print(full_name[-1])   # Last character in the string"
   ]
  },
  {
   "cell_type": "code",
   "execution_count": 6,
   "id": "13a6741b-ec5c-4d86-8d1e-b0ed04954a85",
   "metadata": {},
   "outputs": [
    {
     "ename": "IndexError",
     "evalue": "string index out of range",
     "output_type": "error",
     "traceback": [
      "\u001b[1;31m---------------------------------------------------------------------------\u001b[0m",
      "\u001b[1;31mIndexError\u001b[0m                                Traceback (most recent call last)",
      "Cell \u001b[1;32mIn[6], line 3\u001b[0m\n\u001b[0;32m      1\u001b[0m \u001b[38;5;66;03m# Accessing an index greater than the string length will raise an IndexError\u001b[39;00m\n\u001b[0;32m      2\u001b[0m \u001b[38;5;66;03m# Uncommenting the following line will cause an error:\u001b[39;00m\n\u001b[1;32m----> 3\u001b[0m \u001b[38;5;28mprint\u001b[39m(\u001b[43mfull_name\u001b[49m\u001b[43m[\u001b[49m\u001b[38;5;241;43m10\u001b[39;49m\u001b[43m]\u001b[49m)\n",
      "\u001b[1;31mIndexError\u001b[0m: string index out of range"
     ]
    }
   ],
   "source": [
    "# Accessing an index greater than the string length will raise an IndexError\n",
    "# Uncommenting the following line will cause an error:\n",
    "print(full_name[10])"
   ]
  },
  {
   "cell_type": "code",
   "execution_count": 7,
   "id": "b575d546-07cd-457d-8cec-addb7b10aa36",
   "metadata": {},
   "outputs": [
    {
     "name": "stdout",
     "output_type": "stream",
     "text": [
      "10\n"
     ]
    }
   ],
   "source": [
    "# Finding the length of the string\n",
    "print(len(full_name))"
   ]
  },
  {
   "cell_type": "code",
   "execution_count": 8,
   "id": "332c3ede-8a78-4dd0-ab5b-10fc616b696b",
   "metadata": {},
   "outputs": [
    {
     "ename": "TypeError",
     "evalue": "'str' object does not support item assignment",
     "output_type": "error",
     "traceback": [
      "\u001b[1;31m---------------------------------------------------------------------------\u001b[0m",
      "\u001b[1;31mTypeError\u001b[0m                                 Traceback (most recent call last)",
      "Cell \u001b[1;32mIn[8], line 3\u001b[0m\n\u001b[0;32m      1\u001b[0m \u001b[38;5;66;03m# Attempting to change a character in a string\u001b[39;00m\n\u001b[0;32m      2\u001b[0m \u001b[38;5;66;03m# Strings are immutable in Python; the following line will raise a TypeError:\u001b[39;00m\n\u001b[1;32m----> 3\u001b[0m \u001b[43mfull_name\u001b[49m\u001b[43m[\u001b[49m\u001b[38;5;241;43m0\u001b[39;49m\u001b[43m]\u001b[49m \u001b[38;5;241m=\u001b[39m \u001b[38;5;124m'\u001b[39m\u001b[38;5;124mS\u001b[39m\u001b[38;5;124m'\u001b[39m\n",
      "\u001b[1;31mTypeError\u001b[0m: 'str' object does not support item assignment"
     ]
    }
   ],
   "source": [
    "# Attempting to change a character in a string\n",
    "# Strings are immutable in Python; the following line will raise a TypeError:\n",
    "full_name[0] = 'S'"
   ]
  },
  {
   "cell_type": "code",
   "execution_count": 10,
   "id": "8ff33f53-59cd-4c05-bb13-9965bd0d2155",
   "metadata": {},
   "outputs": [
    {
     "name": "stdout",
     "output_type": "stream",
     "text": [
      "Maze's favourite snacks are candies\n",
      "He said \"Oops!\"\n",
      "\n",
      "Veg biryani with saffron, cardamom, and cloves,\n",
      "garnished with caramelized onions and cilantro.\n",
      "\n"
     ]
    }
   ],
   "source": [
    "# Using single quotes, double quotes, and triple quotes\n",
    "story = \"Maze's favourite snacks are candies\"  # Single quote within double quotes\n",
    "print(story)\n",
    "\n",
    "# Using double quotes inside single quotes\n",
    "dialogue = 'He said \"Oops!\"'\n",
    "print(dialogue)\n",
    "\n",
    "# For longer strings, use triple quotes\n",
    "recipe = '''\n",
    "Veg biryani with saffron, cardamom, and cloves,\n",
    "garnished with caramelized onions and cilantro.\n",
    "'''\n",
    "print(recipe)"
   ]
  },
  {
   "cell_type": "code",
   "execution_count": 11,
   "id": "a71a1ad6-61bf-46cd-87a9-1a2cec095e4d",
   "metadata": {},
   "outputs": [
    {
     "name": "stdout",
     "output_type": "stream",
     "text": [
      "True\n",
      "27\n",
      "False\n"
     ]
    }
   ],
   "source": [
    "# Checking for substrings\n",
    "spice = \"cardamom\"\n",
    "print(spice in recipe)        # Returns True if \"cardamom\" is found in the recipe\n",
    "print(recipe.find(spice))     # Returns the index where \"cardamom\" starts\n",
    "\n",
    "print(\"milk\" in recipe)       # Returns False if \"milk\" is not found in the recipe\n"
   ]
  },
  {
   "cell_type": "code",
   "execution_count": 12,
   "id": "cc57e9ca-f55f-4338-907a-af9c919dbbac",
   "metadata": {},
   "outputs": [
    {
     "name": "stdout",
     "output_type": "stream",
     "text": [
      "Patient was charged 100$ for a lab test\n"
     ]
    }
   ],
   "source": [
    "# Functions in strings\n",
    "s = \"Patient was charged 100$ for a lab test\"\n",
    "print(s)"
   ]
  },
  {
   "cell_type": "code",
   "execution_count": 13,
   "id": "cc6350af-10eb-44b0-9b74-c6cde888bdc8",
   "metadata": {},
   "outputs": [
    {
     "name": "stdout",
     "output_type": "stream",
     "text": [
      "Patient was charged 105$ for a lab test\n"
     ]
    }
   ],
   "source": [
    "# Replacing part of a string\n",
    "s = s.replace(\"100$\", \"105$\")\n",
    "print(s)"
   ]
  },
  {
   "cell_type": "code",
   "execution_count": null,
   "id": "dc3a9826-9511-4f3c-bf44-628de0876a88",
   "metadata": {},
   "outputs": [],
   "source": []
  }
 ],
 "metadata": {
  "kernelspec": {
   "display_name": "Python 3 (ipykernel)",
   "language": "python",
   "name": "python3"
  },
  "language_info": {
   "codemirror_mode": {
    "name": "ipython",
    "version": 3
   },
   "file_extension": ".py",
   "mimetype": "text/x-python",
   "name": "python",
   "nbconvert_exporter": "python",
   "pygments_lexer": "ipython3",
   "version": "3.11.4"
  }
 },
 "nbformat": 4,
 "nbformat_minor": 5
}
