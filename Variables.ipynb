{
 "cells": [
  {
   "cell_type": "code",
   "execution_count": 1,
   "id": "99bf2bc3-fb0a-4f08-88fb-9eb373d398ef",
   "metadata": {},
   "outputs": [
    {
     "name": "stdout",
     "output_type": "stream",
     "text": [
      "## Variables and Assignments ##\n"
     ]
    }
   ],
   "source": [
    "# Python Basics: Variables, Arithmetic Operations, and the Math Module\n",
    "\n",
    "# Variables and Assignments\n",
    "print(\"## Variables and Assignments ##\")"
   ]
  },
  {
   "cell_type": "code",
   "execution_count": 2,
   "id": "490d5d75-ceae-4045-8bff-0fe733aed974",
   "metadata": {},
   "outputs": [
    {
     "name": "stdout",
     "output_type": "stream",
     "text": [
      "Initial value of 'can': soda\n"
     ]
    }
   ],
   "source": [
    "# Single Variable Assignment\n",
    "can = 'soda'\n",
    "print(f\"Initial value of 'can': {can}\")"
   ]
  },
  {
   "cell_type": "code",
   "execution_count": 3,
   "id": "cd4400cf-ffbb-46a3-b214-540b0e13bfdf",
   "metadata": {},
   "outputs": [
    {
     "name": "stdout",
     "output_type": "stream",
     "text": [
      "Reassigned value of 'can': beans\n",
      "Type of 'can': <class 'str'>\n"
     ]
    }
   ],
   "source": [
    "# Reassigning a Variable\n",
    "can = \"beans\"\n",
    "print(f\"Reassigned value of 'can': {can}\")\n",
    "print(f\"Type of 'can': {type(can)}\")"
   ]
  },
  {
   "cell_type": "code",
   "execution_count": 5,
   "id": "cfa386fb-818a-45a6-aae1-ea44d478635a",
   "metadata": {},
   "outputs": [],
   "source": [
    "# Arithmetic Operations\n",
    "print(\"\\n## Arithmetic Operations ##\")"
   ]
  },
  {
   "cell_type": "code",
   "execution_count": 4,
   "id": "55253a4b-5347-4760-ae54-fb4f5837c157",
   "metadata": {},
   "outputs": [
    {
     "name": "stdout",
     "output_type": "stream",
     "text": [
      "Total cost: 220.5\n"
     ]
    }
   ],
   "source": [
    "# Basic Calculations\n",
    "pizza = 100\n",
    "samosa = 20.5\n",
    "icecream = 100\n",
    "\n",
    "# Total Calculation\n",
    "total = pizza + samosa + icecream\n",
    "print(f\"Total cost: {total}\")"
   ]
  },
  {
   "cell_type": "code",
   "execution_count": 5,
   "id": "89da10e0-0cc4-4abb-aaff-5a04b9d9fb15",
   "metadata": {},
   "outputs": [
    {
     "name": "stdout",
     "output_type": "stream",
     "text": [
      "Is the total over the budget? True\n"
     ]
    }
   ],
   "source": [
    "# Budget Comparison\n",
    "budget = 200\n",
    "print(f\"Is the total over the budget? {total > budget}\")\n"
   ]
  },
  {
   "cell_type": "code",
   "execution_count": 6,
   "id": "ac945076-2ac9-413a-bddc-864411e0c32c",
   "metadata": {},
   "outputs": [
    {
     "name": "stdout",
     "output_type": "stream",
     "text": [
      "\n",
      "## Variable Identity ##\n",
      "ID of 'total': 1311043416048\n",
      "ID of 'sar' (same as 'total'): 1311043416048\n"
     ]
    }
   ],
   "source": [
    "# Variable Identity\n",
    "print(\"\\n## Variable Identity ##\")\n",
    "\n",
    "# Checking Memory Address of Variables\n",
    "print(f\"ID of 'total': {id(total)}\")\n",
    "sar = total\n",
    "print(f\"ID of 'sar' (same as 'total'): {id(sar)}\")\n"
   ]
  },
  {
   "cell_type": "code",
   "execution_count": 7,
   "id": "af5fe913-1298-482f-9fbc-1722dbd54e2f",
   "metadata": {},
   "outputs": [
    {
     "name": "stdout",
     "output_type": "stream",
     "text": [
      "New ID of 'sar' after reassignment: 140736290331080\n"
     ]
    }
   ],
   "source": [
    "# Changing the Value of 'sar'\n",
    "sar = 54\n",
    "print(f\"New ID of 'sar' after reassignment: {id(sar)}\")\n"
   ]
  },
  {
   "cell_type": "code",
   "execution_count": 8,
   "id": "5e0a8eb0-ea04-48c2-b408-7000afb0bf76",
   "metadata": {},
   "outputs": [
    {
     "name": "stdout",
     "output_type": "stream",
     "text": [
      "\n",
      "## Advanced Arithmetic ##\n",
      "10 + 3 = 13\n",
      "10 - 3 = 7\n",
      "10 / 3 = 3.3333333333333335\n",
      "10 // 3 = 3\n",
      "10 * 3 = 30\n",
      "10 % 3 = 1\n",
      "10 ** 3 = 1000\n"
     ]
    }
   ],
   "source": [
    "# Advanced Arithmetic\n",
    "print(\"\\n## Advanced Arithmetic ##\")\n",
    "\n",
    "x, y = 10, 3\n",
    "print(f\"{x} + {y} = {x + y}\")\n",
    "print(f\"{x} - {y} = {x - y}\")\n",
    "print(f\"{x} / {y} = {x / y}\")\n",
    "print(f\"{x} // {y} = {x // y}\")\n",
    "print(f\"{x} * {y} = {x * y}\")\n",
    "print(f\"{x} % {y} = {x % y}\")\n",
    "print(f\"{x} ** {y} = {x ** y}\")"
   ]
  },
  {
   "cell_type": "code",
   "execution_count": 9,
   "id": "6c92bca1-0afc-417d-af8f-9ffa6abb0ce0",
   "metadata": {},
   "outputs": [
    {
     "name": "stdout",
     "output_type": "stream",
     "text": [
      "\n",
      "## Using the Math Module ##\n",
      "Square root of 16: 4.0\n",
      "Ceiling of 3.6: 4\n",
      "Value of Pi: 3.141592653589793\n"
     ]
    }
   ],
   "source": [
    "# Using the Math Module\n",
    "print(\"\\n## Using the Math Module ##\")\n",
    "\n",
    "import math\n",
    "\n",
    "# Square Root\n",
    "sqrt_value = math.sqrt(16)\n",
    "print(f\"Square root of 16: {sqrt_value}\")\n",
    "\n",
    "# Ceiling Value\n",
    "ceil_value = math.ceil(3.6)\n",
    "print(f\"Ceiling of 3.6: {ceil_value}\")\n",
    "\n",
    "# Value of Pi\n",
    "print(f\"Value of Pi: {math.pi}\")"
   ]
  },
  {
   "cell_type": "code",
   "execution_count": 10,
   "id": "7775e80d-af80-4f8e-bfa8-8a33d7090cb3",
   "metadata": {},
   "outputs": [
    {
     "name": "stdout",
     "output_type": "stream",
     "text": [
      "\n",
      "Functions in the math module:\n",
      "['__doc__', '__loader__', '__name__', '__package__', '__spec__', 'acos', 'acosh', 'asin', 'asinh', 'atan', 'atan2', 'atanh', 'cbrt', 'ceil', 'comb', 'copysign', 'cos', 'cosh', 'degrees', 'dist', 'e', 'erf', 'erfc', 'exp', 'exp2', 'expm1', 'fabs', 'factorial', 'floor', 'fmod', 'frexp', 'fsum', 'gamma', 'gcd', 'hypot', 'inf', 'isclose', 'isfinite', 'isinf', 'isnan', 'isqrt', 'lcm', 'ldexp', 'lgamma', 'log', 'log10', 'log1p', 'log2', 'modf', 'nan', 'nextafter', 'perm', 'pi', 'pow', 'prod', 'radians', 'remainder', 'sin', 'sinh', 'sqrt', 'tan', 'tanh', 'tau', 'trunc', 'ulp']\n"
     ]
    }
   ],
   "source": [
    "# Directory of Math Module\n",
    "print(\"\\nFunctions in the math module:\")\n",
    "print(dir(math))\n",
    "\n"
   ]
  },
  {
   "cell_type": "code",
   "execution_count": 11,
   "id": "2ad64da9-b062-411a-a61b-ddb1c65664f5",
   "metadata": {},
   "outputs": [
    {
     "name": "stdout",
     "output_type": "stream",
     "text": [
      "Binary representation of 10: 1010\n"
     ]
    }
   ],
   "source": [
    "# Binary Representation\n",
    "binary_format = format(10, 'b')\n",
    "print(f\"Binary representation of 10: {binary_format}\")"
   ]
  },
  {
   "cell_type": "code",
   "execution_count": 18,
   "id": "a162aa8e-d8f7-4afa-ba27-e34e894794b5",
   "metadata": {},
   "outputs": [
    {
     "data": {
      "text/plain": [
       "4.0"
      ]
     },
     "execution_count": 18,
     "metadata": {},
     "output_type": "execute_result"
    }
   ],
   "source": [
    "math.sqrt(16)"
   ]
  },
  {
   "cell_type": "code",
   "execution_count": 19,
   "id": "a981a098-a665-4088-886b-94a03a0f99aa",
   "metadata": {},
   "outputs": [
    {
     "data": {
      "text/plain": [
       "3"
      ]
     },
     "execution_count": 19,
     "metadata": {},
     "output_type": "execute_result"
    }
   ],
   "source": [
    "print(math.floor(3.6))"
   ]
  },
  {
   "cell_type": "code",
   "execution_count": 20,
   "id": "af85517e-0ba0-4786-b583-cea5d9310812",
   "metadata": {},
   "outputs": [
    {
     "name": "stdout",
     "output_type": "stream",
     "text": [
      "4\n"
     ]
    }
   ],
   "source": [
    "print(math.ceil(3.6))"
   ]
  },
  {
   "cell_type": "code",
   "execution_count": 21,
   "id": "047e6619-212d-4a9a-8c57-a8603e0649a9",
   "metadata": {},
   "outputs": [
    {
     "data": {
      "text/plain": [
       "3.141592653589793"
      ]
     },
     "execution_count": 21,
     "metadata": {},
     "output_type": "execute_result"
    }
   ],
   "source": [
    "math.pi"
   ]
  },
  {
   "cell_type": "code",
   "execution_count": 22,
   "id": "3453b0b0-c60f-4c31-8627-3294bb1cfd17",
   "metadata": {},
   "outputs": [
    {
     "data": {
      "text/plain": [
       "['__doc__',\n",
       " '__loader__',\n",
       " '__name__',\n",
       " '__package__',\n",
       " '__spec__',\n",
       " 'acos',\n",
       " 'acosh',\n",
       " 'asin',\n",
       " 'asinh',\n",
       " 'atan',\n",
       " 'atan2',\n",
       " 'atanh',\n",
       " 'cbrt',\n",
       " 'ceil',\n",
       " 'comb',\n",
       " 'copysign',\n",
       " 'cos',\n",
       " 'cosh',\n",
       " 'degrees',\n",
       " 'dist',\n",
       " 'e',\n",
       " 'erf',\n",
       " 'erfc',\n",
       " 'exp',\n",
       " 'exp2',\n",
       " 'expm1',\n",
       " 'fabs',\n",
       " 'factorial',\n",
       " 'floor',\n",
       " 'fmod',\n",
       " 'frexp',\n",
       " 'fsum',\n",
       " 'gamma',\n",
       " 'gcd',\n",
       " 'hypot',\n",
       " 'inf',\n",
       " 'isclose',\n",
       " 'isfinite',\n",
       " 'isinf',\n",
       " 'isnan',\n",
       " 'isqrt',\n",
       " 'lcm',\n",
       " 'ldexp',\n",
       " 'lgamma',\n",
       " 'log',\n",
       " 'log10',\n",
       " 'log1p',\n",
       " 'log2',\n",
       " 'modf',\n",
       " 'nan',\n",
       " 'nextafter',\n",
       " 'perm',\n",
       " 'pi',\n",
       " 'pow',\n",
       " 'prod',\n",
       " 'radians',\n",
       " 'remainder',\n",
       " 'sin',\n",
       " 'sinh',\n",
       " 'sqrt',\n",
       " 'tan',\n",
       " 'tanh',\n",
       " 'tau',\n",
       " 'trunc',\n",
       " 'ulp']"
      ]
     },
     "execution_count": 22,
     "metadata": {},
     "output_type": "execute_result"
    }
   ],
   "source": [
    "dir(math)"
   ]
  },
  {
   "cell_type": "code",
   "execution_count": 23,
   "id": "59d034af-0e4a-494e-911a-f812c7edfcea",
   "metadata": {},
   "outputs": [
    {
     "data": {
      "text/plain": [
       "'1010'"
      ]
     },
     "execution_count": 23,
     "metadata": {},
     "output_type": "execute_result"
    }
   ],
   "source": [
    "format(10,'b')"
   ]
  },
  {
   "cell_type": "raw",
   "id": "37813891-d240-4f4c-9314-35c685bbb19f",
   "metadata": {},
   "source": [
    "Strings"
   ]
  },
  {
   "cell_type": "code",
   "execution_count": 27,
   "id": "26b092d0-196b-4fe6-81b0-f24f1e50dcb1",
   "metadata": {},
   "outputs": [
    {
     "name": "stdout",
     "output_type": "stream",
     "text": [
      "Full name :  mohan sharma\n"
     ]
    }
   ],
   "source": [
    "first = \"mohan\"\n",
    "last = \"sharma\"\n",
    "name = first + \" \"+ last\n",
    "print(\"Full name : \",name)"
   ]
  },
  {
   "cell_type": "code",
   "execution_count": 28,
   "id": "991fd792-ea2f-4f10-afbf-d4d4de18d3e4",
   "metadata": {},
   "outputs": [
    {
     "data": {
      "text/plain": [
       "'mohan sharma'"
      ]
     },
     "execution_count": 28,
     "metadata": {},
     "output_type": "execute_result"
    }
   ],
   "source": [
    "name = f\"{first} {last}\"\n",
    "name"
   ]
  },
  {
   "cell_type": "code",
   "execution_count": 29,
   "id": "7ee36eb5-8917-4517-b9a2-7c949be23c89",
   "metadata": {},
   "outputs": [
    {
     "name": "stdout",
     "output_type": "stream",
     "text": [
      "mohan sharma is 30 years old\n"
     ]
    }
   ],
   "source": [
    "age = 30 \n",
    "print(f\"{first} {last} is {age} years old\")\n"
   ]
  },
  {
   "cell_type": "code",
   "execution_count": 37,
   "id": "939025e7-aa74-4cf4-acf3-4c8c67fa37b0",
   "metadata": {},
   "outputs": [
    {
     "name": "stdout",
     "output_type": "stream",
     "text": [
      "m\n",
      "moha\n",
      "sharma\n",
      "a\n"
     ]
    }
   ],
   "source": [
    "print(name[0])\n",
    "print(name[0:4])\n",
    "print(name[6:])\n",
    "print(name[-1])"
   ]
  },
  {
   "cell_type": "code",
   "execution_count": 40,
   "id": "b61aee73-1435-470d-b110-7eb416a09df0",
   "metadata": {},
   "outputs": [
    {
     "name": "stdout",
     "output_type": "stream",
     "text": [
      "\n",
      "If you're visiting this page, you're likely here because you're searching for a random sentence. \n",
      "Sometimes a random word just isn't enough, and that is where the random sentence generator comes into play.By inputting the desired number, you can make a list of as many random sentences as you want or need.\n",
      "Producing random sentences can be helpful in a number of different ways.\n",
      "\n"
     ]
    }
   ],
   "source": [
    "sentence = '''\n",
    "If you're visiting this page, you're likely here because you're searching for a random sentence. \n",
    "Sometimes a random word just isn't enough, and that is where the random sentence generator comes into play.By inputting the desired number, you can make a list of as many random sentences as you want or need.\n",
    "Producing random sentences can be helpful in a number of different ways.\n",
    "'''\n",
    "print(sentence)"
   ]
  },
  {
   "cell_type": "code",
   "execution_count": 45,
   "id": "8da9cd13-82c3-4bf8-8317-784b632bb36d",
   "metadata": {},
   "outputs": [
    {
     "name": "stdout",
     "output_type": "stream",
     "text": [
      "True\n"
     ]
    },
    {
     "data": {
      "text/plain": [
       "11"
      ]
     },
     "execution_count": 45,
     "metadata": {},
     "output_type": "execute_result"
    }
   ],
   "source": [
    "word =\"visiting\"\n",
    "print(word in sentence)\n",
    "sentence.find(word)"
   ]
  },
  {
   "cell_type": "code",
   "execution_count": 44,
   "id": "3479310e-c35f-48ee-8856-3bb030a17043",
   "metadata": {},
   "outputs": [
    {
     "ename": "SyntaxError",
     "evalue": "unterminated string literal (detected at line 1) (1636561499.py, line 1)",
     "output_type": "error",
     "traceback": [
      "\u001b[1;36m  Cell \u001b[1;32mIn[44], line 1\u001b[1;36m\u001b[0m\n\u001b[1;33m    hello = 'Hi, it's me '\u001b[0m\n\u001b[1;37m                         ^\u001b[0m\n\u001b[1;31mSyntaxError\u001b[0m\u001b[1;31m:\u001b[0m unterminated string literal (detected at line 1)\n"
     ]
    }
   ],
   "source": [
    "hello = 'Hi, it's me '\n",
    "hello"
   ]
  },
  {
   "cell_type": "code",
   "execution_count": 43,
   "id": "fd6565be-80b3-486b-a959-71246e05079d",
   "metadata": {},
   "outputs": [
    {
     "data": {
      "text/plain": [
       "\"Hi it's me\""
      ]
     },
     "execution_count": 43,
     "metadata": {},
     "output_type": "execute_result"
    }
   ],
   "source": [
    "hello = \"Hi it's me\"\n",
    "hello"
   ]
  },
  {
   "cell_type": "code",
   "execution_count": 48,
   "id": "bb094e93-6e57-44ab-bd1f-333d5cd9a5ba",
   "metadata": {},
   "outputs": [
    {
     "data": {
      "text/plain": [
       "['__add__',\n",
       " '__class__',\n",
       " '__contains__',\n",
       " '__delattr__',\n",
       " '__dir__',\n",
       " '__doc__',\n",
       " '__eq__',\n",
       " '__format__',\n",
       " '__ge__',\n",
       " '__getattribute__',\n",
       " '__getitem__',\n",
       " '__getnewargs__',\n",
       " '__getstate__',\n",
       " '__gt__',\n",
       " '__hash__',\n",
       " '__init__',\n",
       " '__init_subclass__',\n",
       " '__iter__',\n",
       " '__le__',\n",
       " '__len__',\n",
       " '__lt__',\n",
       " '__mod__',\n",
       " '__mul__',\n",
       " '__ne__',\n",
       " '__new__',\n",
       " '__reduce__',\n",
       " '__reduce_ex__',\n",
       " '__repr__',\n",
       " '__rmod__',\n",
       " '__rmul__',\n",
       " '__setattr__',\n",
       " '__sizeof__',\n",
       " '__str__',\n",
       " '__subclasshook__',\n",
       " 'capitalize',\n",
       " 'casefold',\n",
       " 'center',\n",
       " 'count',\n",
       " 'encode',\n",
       " 'endswith',\n",
       " 'expandtabs',\n",
       " 'find',\n",
       " 'format',\n",
       " 'format_map',\n",
       " 'index',\n",
       " 'isalnum',\n",
       " 'isalpha',\n",
       " 'isascii',\n",
       " 'isdecimal',\n",
       " 'isdigit',\n",
       " 'isidentifier',\n",
       " 'islower',\n",
       " 'isnumeric',\n",
       " 'isprintable',\n",
       " 'isspace',\n",
       " 'istitle',\n",
       " 'isupper',\n",
       " 'join',\n",
       " 'ljust',\n",
       " 'lower',\n",
       " 'lstrip',\n",
       " 'maketrans',\n",
       " 'partition',\n",
       " 'removeprefix',\n",
       " 'removesuffix',\n",
       " 'replace',\n",
       " 'rfind',\n",
       " 'rindex',\n",
       " 'rjust',\n",
       " 'rpartition',\n",
       " 'rsplit',\n",
       " 'rstrip',\n",
       " 'split',\n",
       " 'splitlines',\n",
       " 'startswith',\n",
       " 'strip',\n",
       " 'swapcase',\n",
       " 'title',\n",
       " 'translate',\n",
       " 'upper',\n",
       " 'zfill']"
      ]
     },
     "execution_count": 48,
     "metadata": {},
     "output_type": "execute_result"
    }
   ],
   "source": [
    "s = \" Today, I was playing in the garden with my friends.\"\n",
    "dir(s) # shows the functions available in string directory\n"
   ]
  },
  {
   "cell_type": "code",
   "execution_count": 50,
   "id": "59fd7535-1a08-45f5-bb03-20448ec76ca3",
   "metadata": {},
   "outputs": [
    {
     "data": {
      "text/plain": [
       "' Today, I was playing in the garden with my friends.'"
      ]
     },
     "execution_count": 50,
     "metadata": {},
     "output_type": "execute_result"
    }
   ],
   "source": [
    "s.replace(\"I\",\"Me\")\n",
    "s"
   ]
  },
  {
   "cell_type": "code",
   "execution_count": 57,
   "id": "10d65000-62ce-4bb4-ba15-7e693578cc9c",
   "metadata": {},
   "outputs": [
    {
     "data": {
      "text/plain": [
       "' Today, Me was playing in the garden with my friends.'"
      ]
     },
     "execution_count": 57,
     "metadata": {},
     "output_type": "execute_result"
    }
   ],
   "source": [
    "s=s.replace(\"I\",\"Me\")\n",
    "s"
   ]
  },
  {
   "cell_type": "code",
   "execution_count": 60,
   "id": "90b6a21c-96e7-4155-997a-729366bd954d",
   "metadata": {},
   "outputs": [
    {
     "name": "stdout",
     "output_type": "stream",
     "text": [
      " TODAY, ME WAS PLAYING IN THE GARDEN WITH MY FRIENDS.\n",
      " today, me was playing in the garden with my friends.\n",
      "False\n"
     ]
    }
   ],
   "source": [
    "print(s.upper())\n",
    "print(s.lower())\n",
    "print(s.isdigit())"
   ]
  },
  {
   "cell_type": "code",
   "execution_count": 61,
   "id": "6d1a5191-7164-44d6-93b4-d6838bd68d02",
   "metadata": {},
   "outputs": [
    {
     "data": {
      "text/plain": [
       "8"
      ]
     },
     "execution_count": 61,
     "metadata": {},
     "output_type": "execute_result"
    }
   ],
   "source": [
    "s.index(\"Me\")"
   ]
  },
  {
   "cell_type": "code",
   "execution_count": 62,
   "id": "ea8f1af0-7e87-421c-b736-ed56abc59f54",
   "metadata": {},
   "outputs": [
    {
     "ename": "TypeError",
     "evalue": "can only concatenate str (not \"int\") to str",
     "output_type": "error",
     "traceback": [
      "\u001b[1;31m---------------------------------------------------------------------------\u001b[0m",
      "\u001b[1;31mTypeError\u001b[0m                                 Traceback (most recent call last)",
      "Cell \u001b[1;32mIn[62], line 3\u001b[0m\n\u001b[0;32m      1\u001b[0m age \u001b[38;5;241m=\u001b[39m \u001b[38;5;241m25\u001b[39m\n\u001b[0;32m      2\u001b[0m string \u001b[38;5;241m=\u001b[39m \u001b[38;5;124m\"\u001b[39m\u001b[38;5;124mMy age is \u001b[39m\u001b[38;5;124m\"\u001b[39m\n\u001b[1;32m----> 3\u001b[0m \u001b[43mstring\u001b[49m\u001b[43m \u001b[49m\u001b[38;5;241;43m+\u001b[39;49m\u001b[43m \u001b[49m\u001b[43mage\u001b[49m\n",
      "\u001b[1;31mTypeError\u001b[0m: can only concatenate str (not \"int\") to str"
     ]
    }
   ],
   "source": [
    "age = 25\n",
    "string = \"My age is \"\n",
    "string + age"
   ]
  },
  {
   "cell_type": "code",
   "execution_count": 64,
   "id": "91dd711a-4c38-47aa-ac38-ec0dc05d5e39",
   "metadata": {},
   "outputs": [
    {
     "data": {
      "text/plain": [
       "'My age is 25'"
      ]
     },
     "execution_count": 64,
     "metadata": {},
     "output_type": "execute_result"
    }
   ],
   "source": [
    "age = 25\n",
    "string = \"My age is \"\n",
    "string + str(age)"
   ]
  },
  {
   "cell_type": "code",
   "execution_count": 65,
   "id": "b6d0d086-f722-4601-86e5-21d25c86506f",
   "metadata": {},
   "outputs": [
    {
     "data": {
      "text/plain": [
       "' hey\\tthere'"
      ]
     },
     "execution_count": 65,
     "metadata": {},
     "output_type": "execute_result"
    }
   ],
   "source": [
    "d = \" hey\\tthere\"\n",
    "d"
   ]
  },
  {
   "cell_type": "code",
   "execution_count": 66,
   "id": "dfab330b-c8b4-43cb-a201-7aec5ce6c9e9",
   "metadata": {},
   "outputs": [
    {
     "name": "stdout",
     "output_type": "stream",
     "text": [
      " hey\tthere\n"
     ]
    }
   ],
   "source": [
    "print(d)"
   ]
  },
  {
   "cell_type": "code",
   "execution_count": 68,
   "id": "67addc2e-b2fc-4121-9b74-1856f11b9495",
   "metadata": {},
   "outputs": [
    {
     "data": {
      "text/plain": [
       "['APPLE', 'NVIDIA', 'GOOGLE', 'OPENAI']"
      ]
     },
     "execution_count": 68,
     "metadata": {},
     "output_type": "execute_result"
    }
   ],
   "source": [
    "tickers = \"APPLE|NVIDIA|GOOGLE|OPENAI\"\n",
    "tickers.split(\"|\")"
   ]
  },
  {
   "cell_type": "code",
   "execution_count": 69,
   "id": "b46204ee-5837-433a-a840-a466e188f0a3",
   "metadata": {},
   "outputs": [
    {
     "data": {
      "text/plain": [
       "['APPLE', 'NVIDIA', 'GOOGLE|OPENAI']"
      ]
     },
     "execution_count": 69,
     "metadata": {},
     "output_type": "execute_result"
    }
   ],
   "source": [
    "tickers.split(\"|\", maxsplit=2)"
   ]
  },
  {
   "cell_type": "code",
   "execution_count": 70,
   "id": "e55ae815-27b5-4049-90ba-d900dbe6b8f4",
   "metadata": {},
   "outputs": [
    {
     "data": {
      "text/plain": [
       "'Hey are you coming?'"
      ]
     },
     "execution_count": 70,
     "metadata": {},
     "output_type": "execute_result"
    }
   ],
   "source": [
    "hey = \" Hey are you coming? \"\n",
    "hey.strip()"
   ]
  },
  {
   "cell_type": "code",
   "execution_count": 72,
   "id": "5092c6e7-c0fa-4a27-824a-2f64b189a447",
   "metadata": {},
   "outputs": [
    {
     "data": {
      "text/plain": [
       "True"
      ]
     },
     "execution_count": 72,
     "metadata": {},
     "output_type": "execute_result"
    }
   ],
   "source": [
    "file_n = \"report.pdf\"\n",
    "file_n.endswith(\".pdf\")"
   ]
  }
 ],
 "metadata": {
  "kernelspec": {
   "display_name": "Python 3 (ipykernel)",
   "language": "python",
   "name": "python3"
  },
  "language_info": {
   "codemirror_mode": {
    "name": "ipython",
    "version": 3
   },
   "file_extension": ".py",
   "mimetype": "text/x-python",
   "name": "python",
   "nbconvert_exporter": "python",
   "pygments_lexer": "ipython3",
   "version": "3.11.4"
  }
 },
 "nbformat": 4,
 "nbformat_minor": 5
}
