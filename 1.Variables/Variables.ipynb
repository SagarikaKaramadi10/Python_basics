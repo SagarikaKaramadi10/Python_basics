{
 "cells": [
  {
   "cell_type": "code",
   "execution_count": 1,
   "id": "99bf2bc3-fb0a-4f08-88fb-9eb373d398ef",
   "metadata": {},
   "outputs": [
    {
     "name": "stdout",
     "output_type": "stream",
     "text": [
      "## Variables and Assignments ##\n"
     ]
    }
   ],
   "source": [
    "# Python Basics: Variables, Arithmetic Operations, and the Math Module\n",
    "\n",
    "# Variables and Assignments\n",
    "print(\"## Variables and Assignments ##\")"
   ]
  },
  {
   "cell_type": "code",
   "execution_count": 2,
   "id": "490d5d75-ceae-4045-8bff-0fe733aed974",
   "metadata": {},
   "outputs": [
    {
     "name": "stdout",
     "output_type": "stream",
     "text": [
      "Initial value of 'can': soda\n"
     ]
    }
   ],
   "source": [
    "# Single Variable Assignment\n",
    "can = 'soda'\n",
    "print(f\"Initial value of 'can': {can}\")"
   ]
  },
  {
   "cell_type": "code",
   "execution_count": 3,
   "id": "cd4400cf-ffbb-46a3-b214-540b0e13bfdf",
   "metadata": {},
   "outputs": [
    {
     "name": "stdout",
     "output_type": "stream",
     "text": [
      "Reassigned value of 'can': beans\n",
      "Type of 'can': <class 'str'>\n"
     ]
    }
   ],
   "source": [
    "# Reassigning a Variable\n",
    "can = \"beans\"\n",
    "print(f\"Reassigned value of 'can': {can}\")\n",
    "print(f\"Type of 'can': {type(can)}\")"
   ]
  },
  {
   "cell_type": "code",
   "execution_count": 5,
   "id": "cfa386fb-818a-45a6-aae1-ea44d478635a",
   "metadata": {},
   "outputs": [],
   "source": [
    "# Arithmetic Operations\n",
    "print(\"\\n## Arithmetic Operations ##\")"
   ]
  },
  {
   "cell_type": "code",
   "execution_count": 4,
   "id": "55253a4b-5347-4760-ae54-fb4f5837c157",
   "metadata": {},
   "outputs": [
    {
     "name": "stdout",
     "output_type": "stream",
     "text": [
      "Total cost: 220.5\n"
     ]
    }
   ],
   "source": [
    "# Basic Calculations\n",
    "pizza = 100\n",
    "samosa = 20.5\n",
    "icecream = 100\n",
    "\n",
    "# Total Calculation\n",
    "total = pizza + samosa + icecream\n",
    "print(f\"Total cost: {total}\")"
   ]
  },
  {
   "cell_type": "code",
   "execution_count": 5,
   "id": "89da10e0-0cc4-4abb-aaff-5a04b9d9fb15",
   "metadata": {},
   "outputs": [
    {
     "name": "stdout",
     "output_type": "stream",
     "text": [
      "Is the total over the budget? True\n"
     ]
    }
   ],
   "source": [
    "# Budget Comparison\n",
    "budget = 200\n",
    "print(f\"Is the total over the budget? {total > budget}\")\n"
   ]
  },
  {
   "cell_type": "code",
   "execution_count": 6,
   "id": "ac945076-2ac9-413a-bddc-864411e0c32c",
   "metadata": {},
   "outputs": [
    {
     "name": "stdout",
     "output_type": "stream",
     "text": [
      "\n",
      "## Variable Identity ##\n",
      "ID of 'total': 1311043416048\n",
      "ID of 'sar' (same as 'total'): 1311043416048\n"
     ]
    }
   ],
   "source": [
    "# Variable Identity\n",
    "print(\"\\n## Variable Identity ##\")\n",
    "\n",
    "# Checking Memory Address of Variables\n",
    "print(f\"ID of 'total': {id(total)}\")\n",
    "sar = total\n",
    "print(f\"ID of 'sar' (same as 'total'): {id(sar)}\")\n"
   ]
  },
  {
   "cell_type": "code",
   "execution_count": 7,
   "id": "af5fe913-1298-482f-9fbc-1722dbd54e2f",
   "metadata": {},
   "outputs": [
    {
     "name": "stdout",
     "output_type": "stream",
     "text": [
      "New ID of 'sar' after reassignment: 140736290331080\n"
     ]
    }
   ],
   "source": [
    "# Changing the Value of 'sar'\n",
    "sar = 54\n",
    "print(f\"New ID of 'sar' after reassignment: {id(sar)}\")\n"
   ]
  },
  {
   "cell_type": "code",
   "execution_count": 8,
   "id": "5e0a8eb0-ea04-48c2-b408-7000afb0bf76",
   "metadata": {},
   "outputs": [
    {
     "name": "stdout",
     "output_type": "stream",
     "text": [
      "\n",
      "## Advanced Arithmetic ##\n",
      "10 + 3 = 13\n",
      "10 - 3 = 7\n",
      "10 / 3 = 3.3333333333333335\n",
      "10 // 3 = 3\n",
      "10 * 3 = 30\n",
      "10 % 3 = 1\n",
      "10 ** 3 = 1000\n"
     ]
    }
   ],
   "source": [
    "# Advanced Arithmetic\n",
    "print(\"\\n## Advanced Arithmetic ##\")\n",
    "\n",
    "x, y = 10, 3\n",
    "print(f\"{x} + {y} = {x + y}\")\n",
    "print(f\"{x} - {y} = {x - y}\")\n",
    "print(f\"{x} / {y} = {x / y}\")\n",
    "print(f\"{x} // {y} = {x // y}\")\n",
    "print(f\"{x} * {y} = {x * y}\")\n",
    "print(f\"{x} % {y} = {x % y}\")\n",
    "print(f\"{x} ** {y} = {x ** y}\")"
   ]
  },
  {
   "cell_type": "code",
   "execution_count": 9,
   "id": "6c92bca1-0afc-417d-af8f-9ffa6abb0ce0",
   "metadata": {},
   "outputs": [
    {
     "name": "stdout",
     "output_type": "stream",
     "text": [
      "\n",
      "## Using the Math Module ##\n",
      "Square root of 16: 4.0\n",
      "Ceiling of 3.6: 4\n",
      "Value of Pi: 3.141592653589793\n"
     ]
    }
   ],
   "source": [
    "# Using the Math Module\n",
    "print(\"\\n## Using the Math Module ##\")\n",
    "\n",
    "import math\n",
    "\n",
    "# Square Root\n",
    "sqrt_value = math.sqrt(16)\n",
    "print(f\"Square root of 16: {sqrt_value}\")\n",
    "\n",
    "# Ceiling Value\n",
    "ceil_value = math.ceil(3.6)\n",
    "print(f\"Ceiling of 3.6: {ceil_value}\")\n",
    "\n",
    "# Value of Pi\n",
    "print(f\"Value of Pi: {math.pi}\")"
   ]
  },
  {
   "cell_type": "code",
   "execution_count": 10,
   "id": "7775e80d-af80-4f8e-bfa8-8a33d7090cb3",
   "metadata": {},
   "outputs": [
    {
     "name": "stdout",
     "output_type": "stream",
     "text": [
      "\n",
      "Functions in the math module:\n",
      "['__doc__', '__loader__', '__name__', '__package__', '__spec__', 'acos', 'acosh', 'asin', 'asinh', 'atan', 'atan2', 'atanh', 'cbrt', 'ceil', 'comb', 'copysign', 'cos', 'cosh', 'degrees', 'dist', 'e', 'erf', 'erfc', 'exp', 'exp2', 'expm1', 'fabs', 'factorial', 'floor', 'fmod', 'frexp', 'fsum', 'gamma', 'gcd', 'hypot', 'inf', 'isclose', 'isfinite', 'isinf', 'isnan', 'isqrt', 'lcm', 'ldexp', 'lgamma', 'log', 'log10', 'log1p', 'log2', 'modf', 'nan', 'nextafter', 'perm', 'pi', 'pow', 'prod', 'radians', 'remainder', 'sin', 'sinh', 'sqrt', 'tan', 'tanh', 'tau', 'trunc', 'ulp']\n"
     ]
    }
   ],
   "source": [
    "# Directory of Math Module\n",
    "print(\"\\nFunctions in the math module:\")\n",
    "print(dir(math))\n",
    "\n"
   ]
  },
  {
   "cell_type": "code",
   "execution_count": 11,
   "id": "2ad64da9-b062-411a-a61b-ddb1c65664f5",
   "metadata": {},
   "outputs": [
    {
     "name": "stdout",
     "output_type": "stream",
     "text": [
      "Binary representation of 10: 1010\n"
     ]
    }
   ],
   "source": [
    "# Binary Representation\n",
    "binary_format = format(10, 'b')\n",
    "print(f\"Binary representation of 10: {binary_format}\")"
   ]
  }
 ],
 "metadata": {
  "kernelspec": {
   "display_name": "Python 3 (ipykernel)",
   "language": "python",
   "name": "python3"
  },
  "language_info": {
   "codemirror_mode": {
    "name": "ipython",
    "version": 3
   },
   "file_extension": ".py",
   "mimetype": "text/x-python",
   "name": "python",
   "nbconvert_exporter": "python",
   "pygments_lexer": "ipython3",
   "version": "3.11.4"
  }
 },
 "nbformat": 4,
 "nbformat_minor": 5
}
